{
 "cells": [
  {
   "cell_type": "code",
   "execution_count": 1,
   "id": "709c0ca8-e758-4185-a6cd-e38537f7821d",
   "metadata": {},
   "outputs": [
    {
     "name": "stderr",
     "output_type": "stream",
     "text": [
      "[ WARN:0] global ../modules/videoio/src/cap_gstreamer.cpp (935) open OpenCV | GStreamer warning: Cannot query video position: status=0, value=-1, duration=-1\n"
     ]
    }
   ],
   "source": [
    "import numpy as np\n",
    "import cv2\n",
    "import dlib\n",
    "video = cv2.VideoCapture(0)\n",
    "\n",
    "detector=dlib.get_frontal_face_detector()\n",
    "\n",
    "while True:\n",
    "    ret,frame=video.read()\n",
    "    frame=cv2.flip(frame,1)\n",
    "    \n",
    "    gray=cv2.cvtColor(frame,cv2.COLOR_BGR2GRAY)\n",
    "    faces=detector(gray)\n",
    "    \n",
    "    num=0\n",
    "    for face in faces:\n",
    "        x,y=face.left(),face.top()\n",
    "        hi,wi=face.right(),face.bottom()\n",
    "        cv2.rectangle(frame,(x,y),(hi,wi),(0,0,255),2)\n",
    "        num=num+1\n",
    "        \n",
    "        cv2.putText(frame,'face'+str(num),(x-12,y-12),cv2.FONT_HERSHEY_SIMPLEX,0.7,(0,255,0),2)\n",
    "        \n",
    "    cv2.imshow('faces',frame)\n",
    "    \n",
    "    \n",
    "    if cv2.waitKey(1) & 0xFF == ord('q'):\n",
    "        break\n",
    "\n",
    "video.release()\n",
    "cv2.destroyAllWindows()\n",
    "        "
   ]
  },
  {
   "cell_type": "code",
   "execution_count": null,
   "id": "2b08ed0b-c573-41bc-bea8-8d0b3a5d7b61",
   "metadata": {},
   "outputs": [],
   "source": []
  },
  {
   "cell_type": "code",
   "execution_count": null,
   "id": "45fe6ef4-494f-45df-9d96-785b510d9c23",
   "metadata": {},
   "outputs": [],
   "source": []
  }
 ],
 "metadata": {
  "kernelspec": {
   "display_name": "Python 3 (ipykernel)",
   "language": "python",
   "name": "python3"
  },
  "language_info": {
   "codemirror_mode": {
    "name": "ipython",
    "version": 3
   },
   "file_extension": ".py",
   "mimetype": "text/x-python",
   "name": "python",
   "nbconvert_exporter": "python",
   "pygments_lexer": "ipython3",
   "version": "3.8.10"
  }
 },
 "nbformat": 4,
 "nbformat_minor": 5
}
